{
 "cells": [
  {
   "cell_type": "code",
   "execution_count": 4,
   "metadata": {},
   "outputs": [],
   "source": [
    "from generator_util import *\n"
   ]
  },
  {
   "cell_type": "code",
   "execution_count": 2,
   "metadata": {},
   "outputs": [
    {
     "data": {
      "text/plain": [
       "[5, 11, 81, 11, 98]"
      ]
     },
     "execution_count": 2,
     "metadata": {},
     "output_type": "execute_result"
    }
   ],
   "source": [
    "randints(5, 0, 100)\n"
   ]
  },
  {
   "cell_type": "code",
   "execution_count": 9,
   "metadata": {},
   "outputs": [
    {
     "data": {
      "text/plain": [
       "749182"
      ]
     },
     "execution_count": 9,
     "metadata": {},
     "output_type": "execute_result"
    }
   ],
   "source": [
    "randint(1, 10**6)\n"
   ]
  },
  {
   "cell_type": "code",
   "execution_count": 12,
   "metadata": {},
   "outputs": [
    {
     "name": "stdout",
     "output_type": "stream",
     "text": [
      "Numbers: [10, 30, 33, 13, 14]\n",
      "Sum: 100\n"
     ]
    }
   ],
   "source": [
    "numbers = randints_with_target_sum(5, 100, 3)\n",
    "print(\"Numbers:\", numbers)\n",
    "print(\"Sum:\", sum(numbers))\n"
   ]
  },
  {
   "cell_type": "code",
   "execution_count": 13,
   "metadata": {},
   "outputs": [
    {
     "data": {
      "text/plain": [
       "[9777287520, 6983776800, 9311702400]"
      ]
     },
     "execution_count": 13,
     "metadata": {},
     "output_type": "execute_result"
    }
   ],
   "source": [
    "numbers_with_max_number_of_divisors(10**10)\n"
   ]
  },
  {
   "cell_type": "code",
   "execution_count": 16,
   "metadata": {},
   "outputs": [
    {
     "name": "stdout",
     "output_type": "stream",
     "text": [
      "23 is prime\n",
      "22 is not prime\n",
      "2 is prime\n",
      "0 is prime\n",
      "1 is prime\n",
      "101 is prime\n",
      "121 is not prime\n"
     ]
    }
   ],
   "source": [
    "numbers = [23, 22, 2, 0, 1, 101, 121]\n",
    "for number in numbers:\n",
    "    print(f\"{number} is {'' if is_prime(number) else 'not '}prime\")\n"
   ]
  },
  {
   "cell_type": "code",
   "execution_count": 5,
   "metadata": {},
   "outputs": [
    {
     "name": "stdout",
     "output_type": "stream",
     "text": [
      "Prime < 23: 19\n",
      "Prime > 23: 29\n",
      "\n",
      "Prime < 22: 19\n",
      "Prime > 22: 23\n",
      "\n",
      "Prime < 2: -\n",
      "Prime > 2: 3\n",
      "\n",
      "Prime < 0: -\n",
      "Prime > 0: 2\n",
      "\n",
      "Prime < 1: -\n",
      "Prime > 1: 2\n",
      "\n",
      "Prime < 101: 97\n",
      "Prime > 101: 103\n",
      "\n",
      "Prime < 121: 113\n",
      "Prime > 121: 127\n",
      "\n"
     ]
    }
   ],
   "source": [
    "numbers = [23, 22, 2, 0, 1, 101, 121]\n",
    "for number in numbers:\n",
    "    print(f\"Prime < {number}:\", end=\" \")\n",
    "    try:\n",
    "        prev = prev_prime(number)\n",
    "        print(prev)\n",
    "    except:\n",
    "        print(\"-\")\n",
    "    print(f\"Prime > {number}:\", end=\" \")\n",
    "    try:\n",
    "        next = next_prime(number)\n",
    "        print(next)\n",
    "    except:\n",
    "        print(\"-\")\n",
    "    print()\n"
   ]
  },
  {
   "cell_type": "code",
   "execution_count": 8,
   "metadata": {},
   "outputs": [
    {
     "name": "stdout",
     "output_type": "stream",
     "text": [
      "1 9\n",
      "6 1\n",
      "6 3\n",
      "7 6\n",
      "4 3\n",
      "4 2\n",
      "5 4\n",
      "8 5\n"
     ]
    }
   ],
   "source": [
    "edges = gen_tree(10, 2)\n",
    "for u, v in edges:\n",
    "    print(u, v)\n"
   ]
  }
 ],
 "metadata": {
  "kernelspec": {
   "display_name": "Python 3",
   "language": "python",
   "name": "python3"
  },
  "language_info": {
   "codemirror_mode": {
    "name": "ipython",
    "version": 3
   },
   "file_extension": ".py",
   "mimetype": "text/x-python",
   "name": "python",
   "nbconvert_exporter": "python",
   "pygments_lexer": "ipython3",
   "version": "3.8.10"
  }
 },
 "nbformat": 4,
 "nbformat_minor": 2
}
